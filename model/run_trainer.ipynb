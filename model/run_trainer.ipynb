{
 "cells": [
  {
   "cell_type": "code",
   "execution_count": 26,
   "metadata": {},
   "outputs": [],
   "source": [
    "import os\n",
    "import math\n",
    "import numpy as np\n",
    "import pandas as pd"
   ]
  },
  {
   "cell_type": "code",
   "execution_count": 27,
   "metadata": {},
   "outputs": [],
   "source": [
    "dataset_dir = r'E:\\juno\\highlight_generator\\data\\dataset'\n",
    "ckpt_dir = 'checkpoints'"
   ]
  },
  {
   "cell_type": "code",
   "execution_count": 28,
   "metadata": {},
   "outputs": [],
   "source": [
    "learning_rate = 1e-4\n",
    "epochs = 25\n",
    "batch_size = 256\n",
    "class_weights = (1, 1)\n",
    "x_includes = ['video', 'audio']\n",
    "\n",
    "# for basic model\n",
    "# x_expand = 0\n",
    "# for sequence model\n",
    "x_expand = 2    # 앞 2개, 뒤 2개 segment 포함"
   ]
  },
  {
   "cell_type": "code",
   "execution_count": 29,
   "metadata": {},
   "outputs": [],
   "source": [
    "from data_loader import DataLoader\n",
    "\n",
    "data_loader = DataLoader(dataset_dir, x_includes=x_includes, x_expand=x_expand)\n",
    "\n",
    "data_config = data_loader.get_metadata()['config']\n",
    "input_shape_dict = data_loader.get_metadata()['data_shape']"
   ]
  },
  {
   "cell_type": "code",
   "execution_count": 36,
   "metadata": {},
   "outputs": [],
   "source": [
    "from tensorflow.keras.layers import Dense, Dropout, Conv3D, Conv2D, Input, MaxPool3D, MaxPool2D, Flatten, concatenate, Reshape\n",
    "from tensorflow.keras.layers import TimeDistributed, LSTM, GRU, Bidirectional, ConvLSTM2D, Lambda\n",
    "from tensorflow.keras.backend import expand_dims\n",
    "from tensorflow.keras.regularizers import l2\n",
    "from tensorflow.keras.models import Model, load_model\n",
    "from tensorflow.keras.utils import plot_model\n",
    "import tensorflow as tf\n",
    "\n",
    "def build_basic_model():\n",
    "    video_input_shape = input_shape_dict['video']\n",
    "    audio_input_shape = input_shape_dict['audio']\n",
    "    weight_decay = 0.005\n",
    "\n",
    "    # Video 3D Conv layers\n",
    "    video_input = Input(video_input_shape, name='video_input')\n",
    "    x = video_input\n",
    "    x = Conv3D(8, (3, 3, 3), strides=(1, 1, 1), padding='same', activation='relu', kernel_initializer='he_uniform', kernel_regularizer=l2(weight_decay))(x)\n",
    "    x = MaxPool3D((2, 2, 2), strides=(2, 2, 2), padding='same')(x)\n",
    "    video_output = Flatten(name='video_output')(x)\n",
    "    \n",
    "    video_model = Model(inputs=video_input, outputs=video_output)\n",
    "\n",
    "    # Audio 2D Conv layers\n",
    "    audio_input = Input(audio_input_shape, name='audio_input')\n",
    "    x = Reshape(audio_input_shape + [1])(audio_input)    # add channel dim\n",
    "    x = Conv2D(4, (3, 3), strides=(1, 1), padding='same', activation='relu', kernel_initializer='he_uniform', kernel_regularizer=l2(weight_decay))(x)\n",
    "    x = MaxPool2D((2, 2), strides=(2, 2), padding='same')(x)\n",
    "    audio_output = Flatten(name='audio_output')(x)\n",
    "    \n",
    "    audio_model = Model(inputs=audio_input, outputs=audio_output)\n",
    "    \n",
    "    # Make video/audio combined model for saving after train\n",
    "    combined_output = concatenate([video_output, audio_output])\n",
    "    \n",
    "    combined_model = Model(inputs=[video_input, audio_input], outputs=combined_output)\n",
    "\n",
    "    # Fully-connected layers\n",
    "    x = combined_output\n",
    "    x = Dense(16, activation='relu', kernel_initializer='he_uniform', kernel_regularizer=l2(weight_decay))(x)\n",
    "    fc_output = Dense(1, activation='sigmoid', kernel_initializer='he_uniform', kernel_regularizer=l2(weight_decay))(x)\n",
    "\n",
    "    # Make entire model for training\n",
    "    entire_model = Model(inputs=[video_input, audio_input], outputs=fc_output)\n",
    "\n",
    "    return video_model, audio_model, combined_model, entire_model\n",
    "\n",
    "def build_sequence_model():\n",
    "    video_input_shape = [None] + input_shape_dict['video']\n",
    "    audio_input_shape = [None] + input_shape_dict['audio']\n",
    "    weight_decay = 0.005\n",
    "\n",
    "    # Video 3D Conv layers\n",
    "    video_input = Input(video_input_shape)\n",
    "    x = video_input\n",
    "    x = TimeDistributed(Conv3D(8, (3, 3, 3), strides=(1, 1, 1), padding='same', activation='relu', kernel_initializer='he_uniform', kernel_regularizer=l2(weight_decay)))(x)\n",
    "    x = TimeDistributed(MaxPool3D((2, 2, 2), strides=(2, 2, 2), padding='same'))(x)\n",
    "    video_output = TimeDistributed(Flatten())(x)\n",
    "    \n",
    "    # Audio 2D Conv layers\n",
    "    audio_input = Input(audio_input_shape)\n",
    "    # x = Reshape(audio_input_shape + [1])(audio_input) # add channel dim\n",
    "    x = TimeDistributed(Lambda(lambda x: tf.expand_dims(x, axis=-1)))(audio_input)  # add channel dim -> 추가한 부분\n",
    "    x = TimeDistributed(Conv2D(4, (3, 3), strides=(1, 1), padding='same', activation='relu', kernel_initializer='he_uniform', kernel_regularizer=l2(weight_decay)))(x)\n",
    "    x = TimeDistributed(MaxPool2D((2, 2), strides=(2, 2), padding='same'))(x)\n",
    "    audio_output = TimeDistributed(Flatten())(x)\n",
    "    \n",
    "    # LSTM layers\n",
    "    x = concatenate([video_output, audio_output])\n",
    "    x = LSTM(16, activation='relu', kernel_initializer='he_uniform', kernel_regularizer=l2(weight_decay))(x)\n",
    "    # x = Bidirectional(LSTM(16, activation='relu', kernel_initializer='he_uniform', kernel_regularizer=l2(weight_decay)))(x) # LSTM -> Bi-LSTM\n",
    "    # x = Bidirectional(GRU(16, activation='relu', kernel_initializer='he_uniform', kernel_regularizer=l2(weight_decay)))(x) # LSTM -> GRU\n",
    "    \n",
    "    # Fully-connected layers\n",
    "    x = Dense(16, activation='relu', kernel_initializer='he_uniform', kernel_regularizer=l2(weight_decay))(x)\n",
    "    #     x = Dropout(0.2)(x)\n",
    "    fc_output = Dense(1, activation='sigmoid', kernel_initializer='he_uniform', kernel_regularizer=l2(weight_decay))(x)\n",
    "\n",
    "    model = Model(inputs=[video_input, audio_input], outputs=fc_output)\n",
    "\n",
    "    return model\n",
    "\n",
    "def build_sequence_model_with_pretrained(checkpoint_name):\n",
    "    video_input_shape = input_shape_dict['video']\n",
    "    audio_input_shape = input_shape_dict['audio']\n",
    "    video_seq_input_shape = [None] + video_input_shape\n",
    "    audio_seq_input_shape = [None] + audio_input_shape\n",
    "    weight_decay = 0.005\n",
    "\n",
    "    # Load pretrained models\n",
    "    saved_model_name = checkpoint_name + '_model'\n",
    "    video_model_name = saved_model_name + '_video'\n",
    "    audio_model_name = saved_model_name + '_audio'\n",
    "    video_model_path = os.path.join(ckpt_dir, video_model_name + '.h5')\n",
    "    audio_model_path = os.path.join(ckpt_dir, audio_model_name + '.h5')\n",
    "\n",
    "    video_model = load_model(video_model_path)\n",
    "    audio_model = load_model(audio_model_path)\n",
    "    video_model.trainable = audio_model.trainable = False\n",
    "\n",
    "    # Input layers\n",
    "    video_seq_input = Input(video_seq_input_shape)\n",
    "    audio_seq_input = Input(audio_seq_input_shape)\n",
    "\n",
    "    # Combine video/audio layers\n",
    "    video_seq_output = TimeDistributed(video_model)(video_seq_input)\n",
    "    audio_seq_output = TimeDistributed(audio_model)(audio_seq_input)\n",
    "    combined_seq_output = concatenate([video_seq_output, audio_seq_output])\n",
    "    \n",
    "    # LSTM layers\n",
    "    x = combined_seq_output\n",
    "    x = LSTM(32, activation='relu', kernel_initializer='he_uniform', kernel_regularizer=l2(weight_decay))(x)\n",
    "    # x = Bidirectional(LSTM(32, activation='relu', kernel_initializer='he_uniform', kernel_regularizer=l2(weight_decay)))(x) # LSTM -> Bi-LSTM\n",
    "    # x = Bidirectional(GRU(32, activation='relu', kernel_initializer='he_uniform', kernel_regularizer=l2(weight_decay)))(x) # LSTM -> GRU\n",
    "    \n",
    "    # Fully-connected layers\n",
    "    x = Dense(32, activation='relu', kernel_initializer='he_uniform', kernel_regularizer=l2(weight_decay))(x)\n",
    "    #     x = Dropout(0.2)(x)\n",
    "    fc_output = Dense(1, activation='sigmoid', kernel_initializer='he_uniform', kernel_regularizer=l2(weight_decay))(x)\n",
    "\n",
    "    model = Model(inputs=[video_seq_input, audio_seq_input], outputs=fc_output)\n",
    "\n",
    "    return model"
   ]
  },
  {
   "cell_type": "code",
   "execution_count": 37,
   "metadata": {
    "scrolled": false
   },
   "outputs": [
    {
     "name": "stdout",
     "output_type": "stream",
     "text": [
      "Model: \"model_2\"\n",
      "________________________________________________________________________________________________________________________________________\n",
      " Layer (type)                               Output Shape                  Param #          Connected to                                 \n",
      "========================================================================================================================================\n",
      " input_18 (InputLayer)                      [(None, None, 40, 108)]       0                []                                           \n",
      "                                                                                                                                        \n",
      " input_17 (InputLayer)                      [(None, None, 15, 64, 64, 3)  0                []                                           \n",
      "                                            ]                                                                                           \n",
      "                                                                                                                                        \n",
      " time_distributed_37 (TimeDistributed)      (None, None, 40, 108, 1)      0                ['input_18[0][0]']                           \n",
      "                                                                                                                                        \n",
      " time_distributed_34 (TimeDistributed)      (None, None, 15, 64, 64, 8)   656              ['input_17[0][0]']                           \n",
      "                                                                                                                                        \n",
      " time_distributed_38 (TimeDistributed)      (None, None, 40, 108, 4)      40               ['time_distributed_37[0][0]']                \n",
      "                                                                                                                                        \n",
      " time_distributed_35 (TimeDistributed)      (None, None, 8, 32, 32, 8)    0                ['time_distributed_34[0][0]']                \n",
      "                                                                                                                                        \n",
      " time_distributed_39 (TimeDistributed)      (None, None, 20, 54, 4)       0                ['time_distributed_38[0][0]']                \n",
      "                                                                                                                                        \n",
      " time_distributed_36 (TimeDistributed)      (None, None, 65536)           0                ['time_distributed_35[0][0]']                \n",
      "                                                                                                                                        \n",
      " time_distributed_40 (TimeDistributed)      (None, None, 4320)            0                ['time_distributed_39[0][0]']                \n",
      "                                                                                                                                        \n",
      " concatenate_2 (Concatenate)                (None, None, 69856)           0                ['time_distributed_36[0][0]',                \n",
      "                                                                                            'time_distributed_40[0][0]']                \n",
      "                                                                                                                                        \n",
      " lstm_2 (LSTM)                              (None, 16)                    4471872          ['concatenate_2[0][0]']                      \n",
      "                                                                                                                                        \n",
      " dense_4 (Dense)                            (None, 16)                    272              ['lstm_2[0][0]']                             \n",
      "                                                                                                                                        \n",
      " dense_5 (Dense)                            (None, 1)                     17               ['dense_4[0][0]']                            \n",
      "                                                                                                                                        \n",
      "========================================================================================================================================\n",
      "Total params: 4,472,857\n",
      "Trainable params: 4,472,857\n",
      "Non-trainable params: 0\n",
      "________________________________________________________________________________________________________________________________________\n"
     ]
    },
    {
     "data": {
      "image/png": "[encoded data removed]",
      "text/plain": [
       "<IPython.core.display.Image object>"
      ]
     },
     "execution_count": 37,
     "metadata": {},
     "output_type": "execute_result"
    }
   ],
   "source": [
    "# for basic model\n",
    "# video_model, audio_model, combined_model, model = build_basic_model()\n",
    "# for sequence model\n",
    "model = build_sequence_model()\n",
    "# for sequence model with pretrained combined model\n",
    "# model = build_sequence_model_with_pretrained('ckpt-20200825-163656-0002-0.3130-0.4588')\n",
    "\n",
    "model.summary(line_length=136)\n",
    "plot_model(model, show_shapes=True, show_layer_names=False)"
   ]
  },
  {
   "cell_type": "code",
   "execution_count": null,
   "metadata": {
    "scrolled": true
   },
   "outputs": [
    {
     "name": "stdout",
     "output_type": "stream",
     "text": [
      "Training started at 20230611-215541\n",
      "optimizer: {'name': 'Adam', 'learning_rate': 0.0001, 'decay': 0.0, 'beta_1': 0.9, 'beta_2': 0.999, 'epsilon': 1e-07, 'amsgrad': False}\n",
      "epochs: 25\n",
      "batch size: 256\n",
      "class weights: (1, 1)\n",
      "normalized class weights: [1. 1.]\n",
      "\n"
     ]
    },
    {
     "data": {
      "application/vnd.jupyter.widget-view+json": {
       "model_id": "6e02873abaff4a3ea37164c4ae47011d",
       "version_major": 2,
       "version_minor": 0
      },
      "text/plain": [
       "Train 1/25:   0%|          | 0/72 [00:00<?, ?it/s]"
      ]
     },
     "metadata": {},
     "output_type": "display_data"
    },
    {
     "data": {
      "application/vnd.jupyter.widget-view+json": {
       "model_id": "373bbcd0789a4b57966d65f1985fe932",
       "version_major": 2,
       "version_minor": 0
      },
      "text/plain": [
       "Validation 1/25:   0%|          | 0/10 [00:00<?, ?it/s]"
      ]
     },
     "metadata": {},
     "output_type": "display_data"
    },
    {
     "name": "stdout",
     "output_type": "stream",
     "text": [
      "model saved to checkpoints\\ckpt-20230611-215541-0001-0.2222.h5\n"
     ]
    },
    {
     "data": {
      "application/vnd.jupyter.widget-view+json": {
       "model_id": "43c665efd076488289220192d463e0ea",
       "version_major": 2,
       "version_minor": 0
      },
      "text/plain": [
       "Train 2/25:   0%|          | 0/72 [00:00<?, ?it/s]"
      ]
     },
     "metadata": {},
     "output_type": "display_data"
    },
    {
     "data": {
      "application/vnd.jupyter.widget-view+json": {
       "model_id": "d309787610464a8f89c02b084637c47c",
       "version_major": 2,
       "version_minor": 0
      },
      "text/plain": [
       "Validation 2/25:   0%|          | 0/10 [00:00<?, ?it/s]"
      ]
     },
     "metadata": {},
     "output_type": "display_data"
    },
    {
     "name": "stdout",
     "output_type": "stream",
     "text": [
      "model saved to checkpoints\\ckpt-20230611-215541-0002-0.0556.h5\n"
     ]
    },
    {
     "data": {
      "application/vnd.jupyter.widget-view+json": {
       "model_id": "17146bfb602f4cb598c462d550fa8034",
       "version_major": 2,
       "version_minor": 0
      },
      "text/plain": [
       "Train 3/25:   0%|          | 0/72 [00:00<?, ?it/s]"
      ]
     },
     "metadata": {},
     "output_type": "display_data"
    },
    {
     "data": {
      "application/vnd.jupyter.widget-view+json": {
       "model_id": "435a500a8f904935bf6c6f156ad1414c",
       "version_major": 2,
       "version_minor": 0
      },
      "text/plain": [
       "Validation 3/25:   0%|          | 0/10 [00:00<?, ?it/s]"
      ]
     },
     "metadata": {},
     "output_type": "display_data"
    },
    {
     "name": "stdout",
     "output_type": "stream",
     "text": [
      "model saved to checkpoints\\ckpt-20230611-215541-0003-0.3261.h5\n"
     ]
    },
    {
     "data": {
      "application/vnd.jupyter.widget-view+json": {
       "model_id": "1f12c654bd214be291d70d758755bbb7",
       "version_major": 2,
       "version_minor": 0
      },
      "text/plain": [
       "Train 4/25:   0%|          | 0/72 [00:00<?, ?it/s]"
      ]
     },
     "metadata": {},
     "output_type": "display_data"
    },
    {
     "data": {
      "application/vnd.jupyter.widget-view+json": {
       "model_id": "b82757a49d8d4e8e913264a0e94cc5f4",
       "version_major": 2,
       "version_minor": 0
      },
      "text/plain": [
       "Validation 4/25:   0%|          | 0/10 [00:00<?, ?it/s]"
      ]
     },
     "metadata": {},
     "output_type": "display_data"
    },
    {
     "name": "stdout",
     "output_type": "stream",
     "text": [
      "model saved to checkpoints\\ckpt-20230611-215541-0004-0.3711.h5\n"
     ]
    },
    {
     "data": {
      "application/vnd.jupyter.widget-view+json": {
       "model_id": "73df0a13664b4383a21019dda8de3ff5",
       "version_major": 2,
       "version_minor": 0
      },
      "text/plain": [
       "Train 5/25:   0%|          | 0/72 [00:00<?, ?it/s]"
      ]
     },
     "metadata": {},
     "output_type": "display_data"
    },
    {
     "data": {
      "application/vnd.jupyter.widget-view+json": {
       "model_id": "8b8a8fbbf8b54a1896cd4b0b5232b98d",
       "version_major": 2,
       "version_minor": 0
      },
      "text/plain": [
       "Validation 5/25:   0%|          | 0/10 [00:00<?, ?it/s]"
      ]
     },
     "metadata": {},
     "output_type": "display_data"
    },
    {
     "name": "stdout",
     "output_type": "stream",
     "text": [
      "model saved to checkpoints\\ckpt-20230611-215541-0005-0.4118.h5\n"
     ]
    },
    {
     "data": {
      "application/vnd.jupyter.widget-view+json": {
       "model_id": "cd53219fa0cc4d75805db9ea3bdb9f75",
       "version_major": 2,
       "version_minor": 0
      },
      "text/plain": [
       "Train 6/25:   0%|          | 0/72 [00:00<?, ?it/s]"
      ]
     },
     "metadata": {},
     "output_type": "display_data"
    },
    {
     "data": {
      "application/vnd.jupyter.widget-view+json": {
       "model_id": "efa5faf0b886455eaf88aa26dc241ff1",
       "version_major": 2,
       "version_minor": 0
      },
      "text/plain": [
       "Validation 6/25:   0%|          | 0/10 [00:00<?, ?it/s]"
      ]
     },
     "metadata": {},
     "output_type": "display_data"
    },
    {
     "name": "stdout",
     "output_type": "stream",
     "text": [
      "model saved to checkpoints\\ckpt-20230611-215541-0006-0.3830.h5\n"
     ]
    },
    {
     "data": {
      "application/vnd.jupyter.widget-view+json": {
       "model_id": "6a1f1c738b224fb5951950311e0d176d",
       "version_major": 2,
       "version_minor": 0
      },
      "text/plain": [
       "Train 7/25:   0%|          | 0/72 [00:00<?, ?it/s]"
      ]
     },
     "metadata": {},
     "output_type": "display_data"
    },
    {
     "data": {
      "application/vnd.jupyter.widget-view+json": {
       "model_id": "a760169a446f4923b3d75fd6aa8136f1",
       "version_major": 2,
       "version_minor": 0
      },
      "text/plain": [
       "Validation 7/25:   0%|          | 0/10 [00:00<?, ?it/s]"
      ]
     },
     "metadata": {},
     "output_type": "display_data"
    },
    {
     "name": "stdout",
     "output_type": "stream",
     "text": [
      "model saved to checkpoints\\ckpt-20230611-215541-0007-0.4648.h5\n"
     ]
    },
    {
     "data": {
      "application/vnd.jupyter.widget-view+json": {
       "model_id": "cd60f85f0d774c5198675fb8aaf9d8dd",
       "version_major": 2,
       "version_minor": 0
      },
      "text/plain": [
       "Train 8/25:   0%|          | 0/72 [00:00<?, ?it/s]"
      ]
     },
     "metadata": {},
     "output_type": "display_data"
    },
    {
     "data": {
      "application/vnd.jupyter.widget-view+json": {
       "model_id": "4f3f4de0e8bf40758cee95c1d4983c39",
       "version_major": 2,
       "version_minor": 0
      },
      "text/plain": [
       "Validation 8/25:   0%|          | 0/10 [00:00<?, ?it/s]"
      ]
     },
     "metadata": {},
     "output_type": "display_data"
    },
    {
     "name": "stdout",
     "output_type": "stream",
     "text": [
      "model saved to checkpoints\\ckpt-20230611-215541-0008-0.4202.h5\n"
     ]
    },
    {
     "data": {
      "application/vnd.jupyter.widget-view+json": {
       "model_id": "e052dfd1357f42a2be898565b3170f5f",
       "version_major": 2,
       "version_minor": 0
      },
      "text/plain": [
       "Train 9/25:   0%|          | 0/72 [00:00<?, ?it/s]"
      ]
     },
     "metadata": {},
     "output_type": "display_data"
    },
    {
     "data": {
      "application/vnd.jupyter.widget-view+json": {
       "model_id": "92ce6d15b6a248d1aa1c52f10cc592eb",
       "version_major": 2,
       "version_minor": 0
      },
      "text/plain": [
       "Validation 9/25:   0%|          | 0/10 [00:00<?, ?it/s]"
      ]
     },
     "metadata": {},
     "output_type": "display_data"
    },
    {
     "name": "stdout",
     "output_type": "stream",
     "text": [
      "model saved to checkpoints\\ckpt-20230611-215541-0009-0.4272.h5\n"
     ]
    },
    {
     "data": {
      "application/vnd.jupyter.widget-view+json": {
       "model_id": "358175a377a145398509bfaae4b130ae",
       "version_major": 2,
       "version_minor": 0
      },
      "text/plain": [
       "Train 10/25:   0%|          | 0/72 [00:00<?, ?it/s]"
      ]
     },
     "metadata": {},
     "output_type": "display_data"
    },
    {
     "data": {
      "application/vnd.jupyter.widget-view+json": {
       "model_id": "c5731b16865d4f60ae2bcee29072b361",
       "version_major": 2,
       "version_minor": 0
      },
      "text/plain": [
       "Validation 10/25:   0%|          | 0/10 [00:00<?, ?it/s]"
      ]
     },
     "metadata": {},
     "output_type": "display_data"
    },
    {
     "name": "stdout",
     "output_type": "stream",
     "text": [
      "model saved to checkpoints\\ckpt-20230611-215541-0010-0.4685.h5\n"
     ]
    },
    {
     "data": {
      "application/vnd.jupyter.widget-view+json": {
       "model_id": "b854e480b7c64224bd7f3db2ed632671",
       "version_major": 2,
       "version_minor": 0
      },
      "text/plain": [
       "Train 11/25:   0%|          | 0/72 [00:00<?, ?it/s]"
      ]
     },
     "metadata": {},
     "output_type": "display_data"
    },
    {
     "data": {
      "application/vnd.jupyter.widget-view+json": {
       "model_id": "2d6c553bb8d84a3392e028a18620cdeb",
       "version_major": 2,
       "version_minor": 0
      },
      "text/plain": [
       "Validation 11/25:   0%|          | 0/10 [00:00<?, ?it/s]"
      ]
     },
     "metadata": {},
     "output_type": "display_data"
    },
    {
     "data": {
      "application/vnd.jupyter.widget-view+json": {
       "model_id": "b60ceab744104afeb5614e6832d00ccf",
       "version_major": 2,
       "version_minor": 0
      },
      "text/plain": [
       "Train 12/25:   0%|          | 0/72 [00:00<?, ?it/s]"
      ]
     },
     "metadata": {},
     "output_type": "display_data"
    },
    {
     "data": {
      "application/vnd.jupyter.widget-view+json": {
       "model_id": "1e9096ce0bd24618980a32d4aeb63122",
       "version_major": 2,
       "version_minor": 0
      },
      "text/plain": [
       "Validation 12/25:   0%|          | 0/10 [00:00<?, ?it/s]"
      ]
     },
     "metadata": {},
     "output_type": "display_data"
    },
    {
     "name": "stdout",
     "output_type": "stream",
     "text": [
      "model saved to checkpoints\\ckpt-20230611-215541-0012-0.5072.h5\n"
     ]
    },
    {
     "data": {
      "application/vnd.jupyter.widget-view+json": {
       "model_id": "30624c204e164ffa9ca49b94f69a7809",
       "version_major": 2,
       "version_minor": 0
      },
      "text/plain": [
       "Train 13/25:   0%|          | 0/72 [00:00<?, ?it/s]"
      ]
     },
     "metadata": {},
     "output_type": "display_data"
    },
    {
     "data": {
      "application/vnd.jupyter.widget-view+json": {
       "model_id": "d2024f426a28454e92bb47d22bfc6bf3",
       "version_major": 2,
       "version_minor": 0
      },
      "text/plain": [
       "Validation 13/25:   0%|          | 0/10 [00:00<?, ?it/s]"
      ]
     },
     "metadata": {},
     "output_type": "display_data"
    },
    {
     "name": "stdout",
     "output_type": "stream",
     "text": [
      "model saved to checkpoints\\ckpt-20230611-215541-0013-0.4602.h5\n"
     ]
    },
    {
     "data": {
      "application/vnd.jupyter.widget-view+json": {
       "model_id": "835b2d8271a8460c8e251645c9461d08",
       "version_major": 2,
       "version_minor": 0
      },
      "text/plain": [
       "Train 14/25:   0%|          | 0/72 [00:00<?, ?it/s]"
      ]
     },
     "metadata": {},
     "output_type": "display_data"
    },
    {
     "data": {
      "application/vnd.jupyter.widget-view+json": {
       "model_id": "3e40b991a9314fd5acf57aff7d5b72c4",
       "version_major": 2,
       "version_minor": 0
      },
      "text/plain": [
       "Validation 14/25:   0%|          | 0/10 [00:00<?, ?it/s]"
      ]
     },
     "metadata": {},
     "output_type": "display_data"
    },
    {
     "name": "stdout",
     "output_type": "stream",
     "text": [
      "model saved to checkpoints\\ckpt-20230611-215541-0014-0.4643.h5\n"
     ]
    },
    {
     "data": {
      "application/vnd.jupyter.widget-view+json": {
       "model_id": "c3933d4a82e14dc3934869f324af6e70",
       "version_major": 2,
       "version_minor": 0
      },
      "text/plain": [
       "Train 15/25:   0%|          | 0/72 [00:00<?, ?it/s]"
      ]
     },
     "metadata": {},
     "output_type": "display_data"
    },
    {
     "data": {
      "application/vnd.jupyter.widget-view+json": {
       "model_id": "549115c9d15845d1961634edaa65a66c",
       "version_major": 2,
       "version_minor": 0
      },
      "text/plain": [
       "Validation 15/25:   0%|          | 0/10 [00:00<?, ?it/s]"
      ]
     },
     "metadata": {},
     "output_type": "display_data"
    },
    {
     "data": {
      "application/vnd.jupyter.widget-view+json": {
       "model_id": "3f0c8e0c2afa403a8f942957095c4410",
       "version_major": 2,
       "version_minor": 0
      },
      "text/plain": [
       "Train 16/25:   0%|          | 0/72 [00:00<?, ?it/s]"
      ]
     },
     "metadata": {},
     "output_type": "display_data"
    },
    {
     "data": {
      "application/vnd.jupyter.widget-view+json": {
       "model_id": "3d8b6633eb3e4998868341934283f0f5",
       "version_major": 2,
       "version_minor": 0
      },
      "text/plain": [
       "Validation 16/25:   0%|          | 0/10 [00:00<?, ?it/s]"
      ]
     },
     "metadata": {},
     "output_type": "display_data"
    },
    {
     "data": {
      "application/vnd.jupyter.widget-view+json": {
       "model_id": "541a5b9772524f43803936cef28b8991",
       "version_major": 2,
       "version_minor": 0
      },
      "text/plain": [
       "Train 17/25:   0%|          | 0/72 [00:00<?, ?it/s]"
      ]
     },
     "metadata": {},
     "output_type": "display_data"
    }
   ],
   "source": [
    "from trainer import Trainer\n",
    "from tensorflow.keras.optimizers import Adam\n",
    "\n",
    "# 학습 시작\n",
    "trainer = Trainer(model, data_loader, ckpt_dir)\n",
    "trainer.train(Adam(learning_rate), epochs, batch_size, class_weights)"
   ]
  },
  {
   "cell_type": "code",
   "execution_count": 38,
   "metadata": {},
   "outputs": [],
   "source": [
    "checkpoint_name = 'ckpt-20230611-182530-0022-0.5255'\n",
    "model.load_weights(os.path.join(ckpt_dir, checkpoint_name + '.h5'))"
   ]
  },
  {
   "cell_type": "code",
   "execution_count": 39,
   "metadata": {},
   "outputs": [
    {
     "data": {
      "application/vnd.jupyter.widget-view+json": {
       "model_id": "b4c506443d7a4f9db7c45d174ff4270f",
       "version_major": 2,
       "version_minor": 0
      },
      "text/plain": [
       "Test:   0%|          | 0/10 [00:00<?, ?it/s]"
      ]
     },
     "metadata": {},
     "output_type": "display_data"
    },
    {
     "name": "stdout",
     "output_type": "stream",
     "text": [
      "test data count: 2364\n",
      "true_1, pred_1: (70, 53)\n",
      "\n",
      "Confusion Matrix:\n",
      "[[2270   24]\n",
      " [  41   29]]\n",
      "\n",
      "Report:\n",
      "              precision    recall  f1-score   support\n",
      "\n",
      "           0       0.98      0.99      0.99      2294\n",
      "           1       0.55      0.41      0.47        70\n",
      "\n",
      "    accuracy                           0.97      2364\n",
      "   macro avg       0.76      0.70      0.73      2364\n",
      "weighted avg       0.97      0.97      0.97      2364\n",
      "\n"
     ]
    }
   ],
   "source": [
    "from sklearn.metrics import confusion_matrix, classification_report\n",
    "from trainer import Trainer\n",
    "\n",
    "trainer = Trainer(model, data_loader, ckpt_dir)\n",
    "y_true, y_pred = trainer.test_prediction(batch_size)\n",
    "\n",
    "print(f'test data count: {len(y_true)}')\n",
    "print(f'true_1, pred_1: {y_true.sum(), y_pred.sum()}')\n",
    "print()\n",
    "print('Confusion Matrix:')\n",
    "print(confusion_matrix(y_true, y_pred))\n",
    "print()\n",
    "print('Report:')\n",
    "print(classification_report(y_true, y_pred))"
   ]
  },
  {
   "cell_type": "code",
   "execution_count": 40,
   "metadata": {},
   "outputs": [
    {
     "name": "stdout",
     "output_type": "stream",
     "text": [
      "checkpoints\\ckpt-20230611-182530-0022-0.5255_model.h5\n",
      "checkpoints\\ckpt-20230611-182530-0022-0.5255_model_video.h5\n",
      "checkpoints\\ckpt-20230611-182530-0022-0.5255_model_audio.h5\n",
      "checkpoints\\ckpt-20230611-182530-0022-0.5255_model_combined.h5\n"
     ]
    }
   ],
   "source": [
    "checkpoint_name = 'ckpt-20230611-182530-0022-0.5255'\n",
    "model_name = checkpoint_name + '_model'\n",
    "model_path = os.path.join(ckpt_dir, model_name + '.h5')\n",
    "print(model_path)\n",
    "\n",
    "video_model_name = model_name + '_video'\n",
    "audio_model_name = model_name + '_audio'\n",
    "combined_model_name = model_name + '_combined'\n",
    "video_model_path = os.path.join(ckpt_dir, video_model_name + '.h5')\n",
    "audio_model_path = os.path.join(ckpt_dir, audio_model_name + '.h5')\n",
    "combined_model_path = os.path.join(ckpt_dir, combined_model_name + '.h5')\n",
    "print(video_model_path)\n",
    "print(audio_model_path)\n",
    "print(combined_model_path)"
   ]
  },
  {
   "cell_type": "code",
   "execution_count": 41,
   "metadata": {},
   "outputs": [
    {
     "name": "stdout",
     "output_type": "stream",
     "text": [
      "WARNING:tensorflow:Compiled the loaded model, but the compiled metrics have yet to be built. `model.compile_metrics` will be empty until you train or evaluate the model.\n",
      "WARNING:tensorflow:Compiled the loaded model, but the compiled metrics have yet to be built. `model.compile_metrics` will be empty until you train or evaluate the model.\n",
      "WARNING:tensorflow:Compiled the loaded model, but the compiled metrics have yet to be built. `model.compile_metrics` will be empty until you train or evaluate the model.\n"
     ]
    }
   ],
   "source": [
    "model.save(model_path)\n",
    "\n",
    "video_model.save(video_model_path)\n",
    "audio_model.save(audio_model_path)\n",
    "combined_model.save(combined_model_path)"
   ]
  },
  {
   "cell_type": "code",
   "execution_count": 42,
   "metadata": {},
   "outputs": [
    {
     "name": "stdout",
     "output_type": "stream",
     "text": [
      "checkpoints\\ckpt-20230611-182530-0022-0.5255_model.h5\n"
     ]
    }
   ],
   "source": [
    "checkpoint_name = 'ckpt-20230611-182530-0022-0.5255'\n",
    "model_name = checkpoint_name + '_model'\n",
    "model_path = os.path.join(ckpt_dir, model_name + '.h5')\n",
    "print(model_path)"
   ]
  },
  {
   "cell_type": "code",
   "execution_count": 43,
   "metadata": {},
   "outputs": [],
   "source": [
    "from tensorflow.keras.models import load_model\n",
    "\n",
    "model_restored = load_model(model_path)"
   ]
  },
  {
   "cell_type": "code",
   "execution_count": 44,
   "metadata": {},
   "outputs": [
    {
     "name": "stdout",
     "output_type": "stream",
     "text": [
      "Model: \"model_3\"\n",
      "__________________________________________________________________________________________________\n",
      " Layer (type)                   Output Shape         Param #     Connected to                     \n",
      "==================================================================================================\n",
      " audio_input (InputLayer)       [(None, 40, 108)]    0           []                               \n",
      "                                                                                                  \n",
      " video_input (InputLayer)       [(None, 15, 64, 64,  0           []                               \n",
      "                                 3)]                                                              \n",
      "                                                                                                  \n",
      " reshape (Reshape)              (None, 40, 108, 1)   0           ['audio_input[0][0]']            \n",
      "                                                                                                  \n",
      " conv3d (Conv3D)                (None, 15, 64, 64,   656         ['video_input[0][0]']            \n",
      "                                8)                                                                \n",
      "                                                                                                  \n",
      " conv2d (Conv2D)                (None, 40, 108, 4)   40          ['reshape[0][0]']                \n",
      "                                                                                                  \n",
      " max_pooling3d (MaxPooling3D)   (None, 8, 32, 32, 8  0           ['conv3d[0][0]']                 \n",
      "                                )                                                                 \n",
      "                                                                                                  \n",
      " max_pooling2d (MaxPooling2D)   (None, 20, 54, 4)    0           ['conv2d[0][0]']                 \n",
      "                                                                                                  \n",
      " video_output (Flatten)         (None, 65536)        0           ['max_pooling3d[0][0]']          \n",
      "                                                                                                  \n",
      " audio_output (Flatten)         (None, 4320)         0           ['max_pooling2d[0][0]']          \n",
      "                                                                                                  \n",
      " concatenate (Concatenate)      (None, 69856)        0           ['video_output[0][0]',           \n",
      "                                                                  'audio_output[0][0]']           \n",
      "                                                                                                  \n",
      " dense (Dense)                  (None, 16)           1117712     ['concatenate[0][0]']            \n",
      "                                                                                                  \n",
      " dense_1 (Dense)                (None, 1)            17          ['dense[0][0]']                  \n",
      "                                                                                                  \n",
      "==================================================================================================\n",
      "Total params: 1,118,425\n",
      "Trainable params: 1,118,425\n",
      "Non-trainable params: 0\n",
      "__________________________________________________________________________________________________\n"
     ]
    }
   ],
   "source": [
    "model_restored.summary()"
   ]
  },
  {
   "cell_type": "code",
   "execution_count": 45,
   "metadata": {},
   "outputs": [
    {
     "data": {
      "application/vnd.jupyter.widget-view+json": {
       "model_id": "d5b122d119b348779ada289675e530a1",
       "version_major": 2,
       "version_minor": 0
      },
      "text/plain": [
       "Test:   0%|          | 0/10 [00:00<?, ?it/s]"
      ]
     },
     "metadata": {},
     "output_type": "display_data"
    },
    {
     "name": "stdout",
     "output_type": "stream",
     "text": [
      "test data count: 2364\n",
      "true_1, pred_1: (70, 53)\n",
      "\n",
      "Confusion Matrix:\n",
      "[[2270   24]\n",
      " [  41   29]]\n",
      "\n",
      "Report:\n",
      "              precision    recall  f1-score   support\n",
      "\n",
      "           0       0.98      0.99      0.99      2294\n",
      "           1       0.55      0.41      0.47        70\n",
      "\n",
      "    accuracy                           0.97      2364\n",
      "   macro avg       0.76      0.70      0.73      2364\n",
      "weighted avg       0.97      0.97      0.97      2364\n",
      "\n"
     ]
    }
   ],
   "source": [
    "from sklearn.metrics import confusion_matrix, classification_report\n",
    "from trainer import Trainer\n",
    "\n",
    "trainer = Trainer(model_restored, data_loader, ckpt_dir)\n",
    "y_true, y_pred = trainer.test_prediction(batch_size)\n",
    "\n",
    "print(f'test data count: {len(y_true)}')\n",
    "print(f'true_1, pred_1: {y_true.sum(), y_pred.sum()}')\n",
    "print()\n",
    "print('Confusion Matrix:')\n",
    "print(confusion_matrix(y_true, y_pred))\n",
    "print()\n",
    "print('Report:')\n",
    "print(classification_report(y_true, y_pred))"
   ]
  },
  {
   "cell_type": "code",
   "execution_count": 46,
   "metadata": {},
   "outputs": [],
   "source": [
    "import matplotlib.pyplot as plt\n",
    "\n",
    "def plot_predictions():\n",
    "    segment_length = data_loader.get_metadata()['config']['segment_length']\n",
    "    \n",
    "    segment_df = data_loader.test_segment_df.copy()\n",
    "    segment_df['pred'] = y_pred\n",
    "    \n",
    "    title_list = sorted(segment_df['title'].unique())\n",
    "    fig, axes = plt.subplots(len(title_list), 1, figsize=(16, 2 * len(title_list)))\n",
    "    \n",
    "    if len(title_list) == 1:\n",
    "        axes = [axes]\n",
    "    \n",
    "    for i, title in enumerate(title_list):\n",
    "        title_segment_df = segment_df[segment_df['title'] == title].sort_values(by='index')\n",
    "        labels = title_segment_df['label'].values\n",
    "        preds = title_segment_df['pred'].values\n",
    "        \n",
    "        axes[i].plot(labels, label='Label')\n",
    "        axes[i].plot(preds * .95, label='Prediction')\n",
    "        axes[i].set_title(title)\n",
    "        axes[i].legend()\n",
    "        \n",
    "    fig.tight_layout()"
   ]
  },
  {
   "cell_type": "code",
   "execution_count": 47,
   "metadata": {},
   "outputs": [
    {
     "data": {
      "image/png": "[encoded data removed]",
      "text/plain": [
       "<Figure size 1600x200 with 1 Axes>"
      ]
     },
     "metadata": {},
     "output_type": "display_data"
    }
   ],
   "source": [
    "plot_predictions()"
   ]
  },
  {
   "cell_type": "code",
   "execution_count": 48,
   "metadata": {},
   "outputs": [],
   "source": [
    "def print_false_predictions(title):\n",
    "    from data_converter import to_hms\n",
    "    \n",
    "    pd.set_option('display.max_rows', None)\n",
    "    \n",
    "    segment_length = data_loader.get_metadata()['config']['segment_length']\n",
    "    \n",
    "    segment_df = data_loader.test_segment_df.copy()\n",
    "    segment_df['pred'] = y_pred\n",
    "    title_segment_df = segment_df[segment_df['title'] == title].sort_values(by='index')\n",
    "    \n",
    "    title_segment_df['time'] = (title_segment_df['index'] * segment_length).apply(to_hms)\n",
    "    \n",
    "    columns = ['title', 'index', 'time', 'label', 'pred']\n",
    "    print(title_segment_df[title_segment_df['label'] != title_segment_df['pred']][columns])"
   ]
  },
  {
   "cell_type": "code",
   "execution_count": 50,
   "metadata": {},
   "outputs": [
    {
     "name": "stdout",
     "output_type": "stream",
     "text": [
      "                    title  index      time  label  pred\n",
      "7349  20220630_KIA_KIWOOM     89  00:07:25      0     1\n",
      "7540  20220630_KIA_KIWOOM    280  00:23:20      0     1\n",
      "7583  20220630_KIA_KIWOOM    323  00:26:55      1     0\n",
      "7584  20220630_KIA_KIWOOM    324  00:27:00      1     0\n",
      "7611  20220630_KIA_KIWOOM    351  00:29:15      1     0\n",
      "7648  20220630_KIA_KIWOOM    388  00:32:20      1     0\n",
      "7669  20220630_KIA_KIWOOM    409  00:34:05      1     0\n",
      "7671  20220630_KIA_KIWOOM    411  00:34:15      1     0\n",
      "7672  20220630_KIA_KIWOOM    412  00:34:20      1     0\n",
      "7675  20220630_KIA_KIWOOM    415  00:34:35      0     1\n",
      "7698  20220630_KIA_KIWOOM    438  00:36:30      1     0\n",
      "7699  20220630_KIA_KIWOOM    439  00:36:35      1     0\n",
      "7743  20220630_KIA_KIWOOM    483  00:40:15      1     0\n",
      "7784  20220630_KIA_KIWOOM    524  00:43:40      1     0\n",
      "7785  20220630_KIA_KIWOOM    525  00:43:45      1     0\n",
      "7786  20220630_KIA_KIWOOM    526  00:43:50      1     0\n",
      "7826  20220630_KIA_KIWOOM    566  00:47:10      1     0\n",
      "7827  20220630_KIA_KIWOOM    567  00:47:15      1     0\n",
      "7828  20220630_KIA_KIWOOM    568  00:47:20      1     0\n",
      "7829  20220630_KIA_KIWOOM    569  00:47:25      1     0\n",
      "7854  20220630_KIA_KIWOOM    594  00:49:30      1     0\n",
      "7855  20220630_KIA_KIWOOM    595  00:49:35      1     0\n",
      "7985  20220630_KIA_KIWOOM    725  01:00:25      1     0\n",
      "7986  20220630_KIA_KIWOOM    726  01:00:30      1     0\n",
      "8181  20220630_KIA_KIWOOM    921  01:16:45      1     0\n",
      "8184  20220630_KIA_KIWOOM    924  01:17:00      1     0\n",
      "8185  20220630_KIA_KIWOOM    925  01:17:05      1     0\n",
      "8186  20220630_KIA_KIWOOM    926  01:17:10      1     0\n",
      "8188  20220630_KIA_KIWOOM    928  01:17:20      0     1\n",
      "8309  20220630_KIA_KIWOOM   1049  01:27:25      0     1\n",
      "8472  20220630_KIA_KIWOOM   1212  01:41:00      0     1\n",
      "8473  20220630_KIA_KIWOOM   1213  01:41:05      0     1\n",
      "8526  20220630_KIA_KIWOOM   1266  01:45:30      1     0\n",
      "8528  20220630_KIA_KIWOOM   1268  01:45:40      1     0\n",
      "8557  20220630_KIA_KIWOOM   1297  01:48:05      1     0\n",
      "8558  20220630_KIA_KIWOOM   1298  01:48:10      1     0\n",
      "8579  20220630_KIA_KIWOOM   1319  01:49:55      0     1\n",
      "8621  20220630_KIA_KIWOOM   1361  01:53:25      1     0\n",
      "8625  20220630_KIA_KIWOOM   1365  01:53:45      1     0\n",
      "8629  20220630_KIA_KIWOOM   1369  01:54:05      0     1\n",
      "8887  20220630_KIA_KIWOOM   1627  02:15:35      1     0\n",
      "8912  20220630_KIA_KIWOOM   1652  02:17:40      0     1\n",
      "8913  20220630_KIA_KIWOOM   1653  02:17:45      0     1\n",
      "9050  20220630_KIA_KIWOOM   1790  02:29:10      0     1\n",
      "9057  20220630_KIA_KIWOOM   1797  02:29:45      0     1\n",
      "9101  20220630_KIA_KIWOOM   1841  02:33:25      0     1\n",
      "9150  20220630_KIA_KIWOOM   1890  02:37:30      0     1\n",
      "9233  20220630_KIA_KIWOOM   1973  02:44:25      0     1\n",
      "9244  20220630_KIA_KIWOOM   1984  02:45:20      1     0\n",
      "9346  20220630_KIA_KIWOOM   2086  02:53:50      1     0\n",
      "9392  20220630_KIA_KIWOOM   2132  02:57:40      0     1\n",
      "9415  20220630_KIA_KIWOOM   2155  02:59:35      1     0\n",
      "9416  20220630_KIA_KIWOOM   2156  02:59:40      1     0\n",
      "9427  20220630_KIA_KIWOOM   2167  03:00:35      0     1\n",
      "9428  20220630_KIA_KIWOOM   2168  03:00:40      0     1\n",
      "9448  20220630_KIA_KIWOOM   2188  03:02:20      0     1\n",
      "9449  20220630_KIA_KIWOOM   2189  03:02:25      0     1\n",
      "9470  20220630_KIA_KIWOOM   2210  03:04:10      0     1\n",
      "9523  20220630_KIA_KIWOOM   2263  03:08:35      1     0\n",
      "9527  20220630_KIA_KIWOOM   2267  03:08:55      0     1\n",
      "9530  20220630_KIA_KIWOOM   2270  03:09:10      1     0\n",
      "9531  20220630_KIA_KIWOOM   2271  03:09:15      1     0\n",
      "9555  20220630_KIA_KIWOOM   2295  03:11:15      0     1\n",
      "9601  20220630_KIA_KIWOOM   2341  03:15:05      1     0\n",
      "9603  20220630_KIA_KIWOOM   2343  03:15:15      1     0\n"
     ]
    }
   ],
   "source": [
    "# 확인하고 싶은 영상 제목을 입력\n",
    "print_false_predictions('20220630_KIA_KIWOOM')"
   ]
  },
  {
   "cell_type": "code",
   "execution_count": 53,
   "metadata": {},
   "outputs": [],
   "source": [
    "def save_predictions():\n",
    "    from data_converter import to_hms\n",
    "    \n",
    "    segment_length = data_loader.get_metadata()['config']['segment_length']\n",
    "    \n",
    "    segment_df = data_loader.test_segment_df.copy()\n",
    "    segment_df['pred'] = y_pred\n",
    "    segment_df['start_sec'] = (segment_df['index'] * segment_length)\n",
    "    segment_df['end_sec'] = ((segment_df['index'] + 1) * segment_length)\n",
    "    segment_df['start_time'] = segment_df['start_sec'].apply(to_hms)\n",
    "    segment_df['end_time'] = segment_df['end_sec'].apply(to_hms)\n",
    "    segment_df['start_frame'] = (segment_df['start_sec'] * 29.97).astype(np.int32)\n",
    "    segment_df['end_frame'] = (segment_df['end_sec'] * 29.97 - 1).astype(np.int32)\n",
    "    \n",
    "    title_list = sorted(segment_df['title'].unique())\n",
    "    \n",
    "    for i, title in enumerate(title_list):\n",
    "        title_segment_df = segment_df[segment_df['title'] == title].sort_values(by='index')\n",
    "        \n",
    "        columns = ['index', 'start_sec', 'end_sec', 'start_time', 'end_time', 'start_frame', 'end_frame', 'label', 'pred']\n",
    "        title_segment_df.to_csv(title + '.csv', columns=columns, index=False)"
   ]
  },
  {
   "cell_type": "code",
   "execution_count": 54,
   "metadata": {},
   "outputs": [],
   "source": [
    "save_predictions()"
   ]
  },
  {
   "cell_type": "code",
   "execution_count": null,
   "metadata": {},
   "outputs": [],
   "source": []
  }
 ],
 "metadata": {
  "kernelspec": {
   "display_name": "Python 3 (ipykernel)",
   "language": "python",
   "name": "python3"
  },
  "language_info": {
   "codemirror_mode": {
    "name": "ipython",
    "version": 3
   },
   "file_extension": ".py",
   "mimetype": "text/x-python",
   "name": "python",
   "nbconvert_exporter": "python",
   "pygments_lexer": "ipython3",
   "version": "3.10.9"
  }
 },
 "nbformat": 4,
 "nbformat_minor": 2
}
