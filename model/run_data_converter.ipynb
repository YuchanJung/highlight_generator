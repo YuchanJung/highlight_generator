{
 "cells": [
  {
   "cell_type": "code",
   "execution_count": 1,
   "id": "b34ca9a2",
   "metadata": {},
   "outputs": [],
   "source": [
    "from data_converter import convert_data"
   ]
  },
  {
   "cell_type": "code",
   "execution_count": 6,
   "id": "dac4527b",
   "metadata": {},
   "outputs": [],
   "source": [
    "input_video_dir = r'../data/raw'\n",
    "segment_length = 5\n",
    "video_sample_rate = 3\n",
    "video_width, video_height = 64, 64\n",
    "audio_sample_rate = 11025\n",
    "output_dataset_dir = r'../data/dataset'"
   ]
  },
  {
   "cell_type": "code",
   "execution_count": null,
   "id": "a521fa08",
   "metadata": {},
   "outputs": [
    {
     "name": "stdout",
     "output_type": "stream",
     "text": [
      "input_video_dir: ../data/raw\n",
      "output_dataset_dir: ../data/dataset\n",
      "config:\n",
      "{'apply_mfcc': 1,\n",
      " 'audio_sample_rate': 11025,\n",
      " 'segment_length': 5,\n",
      " 'video_height': 64,\n",
      " 'video_sample_rate': 3,\n",
      " 'video_width': 64}\n",
      "\n",
      "WARNING: output_dataset_dir \"../data/dataset\" already exists.\n",
      "Remove all contents and continue? (y/n): y\n",
      "['../data/raw/20220803_KT_NC.txt', '../data/raw/20220518_삼성_한화.txt', '../data/raw/20220804_KT_NC.txt', '../data/raw/20220730_두산_한화.txt', '../data/raw/20220724_SSG_두산.txt', '../data/raw/20220629_KIA_키움.txt', '../data/raw/20220513_KIA_LG.txt']\n",
      "['../data/raw/20220803_KT_NC.mp4', '../data/raw/20220518_삼성_한화.mp4', '../data/raw/20220804_KT_NC.mp4', '../data/raw/20220730_두산_한화.mp4', '../data/raw/20220724_SSG_두산.mp4', '../data/raw/20220629_KIA_키움.mp4', '../data/raw/20220513_KIA_LG.mp4']\n",
      "['20220803_KT_NC', '20220518_삼성_한화', '20220804_KT_NC', '20220730_두산_한화', '20220724_SSG_두산', '20220629_KIA_키움', '20220513_KIA_LG']\n",
      "<zip object at 0x150d2efc0>\n"
     ]
    }
   ],
   "source": [
    "convert_data(input_video_dir, segment_length, video_sample_rate, video_width, video_height, audio_sample_rate, 1, output_dataset_dir)"
   ]
  },
  {
   "cell_type": "code",
   "execution_count": null,
   "id": "2b51da39",
   "metadata": {},
   "outputs": [],
   "source": []
  }
 ],
 "metadata": {
  "kernelspec": {
   "display_name": "Python 3 (ipykernel)",
   "language": "python",
   "name": "python3"
  },
  "language_info": {
   "codemirror_mode": {
    "name": "ipython",
    "version": 3
   },
   "file_extension": ".py",
   "mimetype": "text/x-python",
   "name": "python",
   "nbconvert_exporter": "python",
   "pygments_lexer": "ipython3",
   "version": "3.9.15"
  }
 },
 "nbformat": 4,
 "nbformat_minor": 5
}
