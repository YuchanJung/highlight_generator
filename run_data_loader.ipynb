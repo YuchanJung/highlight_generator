{
 "cells": [
  {
   "cell_type": "code",
   "execution_count": 1,
   "metadata": {},
   "outputs": [],
   "source": [
    "from data_loader import DataLoader\n",
    "from collections import Counter"
   ]
  },
  {
   "cell_type": "code",
   "execution_count": 3,
   "metadata": {},
   "outputs": [],
   "source": [
    "x_includes = ['video', 'audio', 'time']\n",
    "dl = DataLoader(r'C:\\Users\\USER\\highlight_generator\\data\\dataset', x_includes)"
   ]
  },
  {
   "cell_type": "code",
   "execution_count": 4,
   "metadata": {},
   "outputs": [
    {
     "data": {
      "text/html": [
       "<div>\n",
       "<style scoped>\n",
       "    .dataframe tbody tr th:only-of-type {\n",
       "        vertical-align: middle;\n",
       "    }\n",
       "\n",
       "    .dataframe tbody tr th {\n",
       "        vertical-align: top;\n",
       "    }\n",
       "\n",
       "    .dataframe thead th {\n",
       "        text-align: right;\n",
       "    }\n",
       "</style>\n",
       "<table border=\"1\" class=\"dataframe\">\n",
       "  <thead>\n",
       "    <tr style=\"text-align: right;\">\n",
       "      <th></th>\n",
       "      <th>title</th>\n",
       "      <th>name</th>\n",
       "      <th>index</th>\n",
       "      <th>label</th>\n",
       "      <th>path</th>\n",
       "      <th>subset</th>\n",
       "    </tr>\n",
       "  </thead>\n",
       "  <tbody>\n",
       "    <tr>\n",
       "      <th>0</th>\n",
       "      <td>20220513_KIA_LG</td>\n",
       "      <td>seg_00000_0</td>\n",
       "      <td>0</td>\n",
       "      <td>0</td>\n",
       "      <td>C:\\Users\\USER\\highlight_generator\\data\\dataset...</td>\n",
       "      <td>train</td>\n",
       "    </tr>\n",
       "    <tr>\n",
       "      <th>1</th>\n",
       "      <td>20220513_KIA_LG</td>\n",
       "      <td>seg_00001_0</td>\n",
       "      <td>1</td>\n",
       "      <td>0</td>\n",
       "      <td>C:\\Users\\USER\\highlight_generator\\data\\dataset...</td>\n",
       "      <td>train</td>\n",
       "    </tr>\n",
       "    <tr>\n",
       "      <th>2</th>\n",
       "      <td>20220513_KIA_LG</td>\n",
       "      <td>seg_00002_0</td>\n",
       "      <td>2</td>\n",
       "      <td>0</td>\n",
       "      <td>C:\\Users\\USER\\highlight_generator\\data\\dataset...</td>\n",
       "      <td>train</td>\n",
       "    </tr>\n",
       "    <tr>\n",
       "      <th>3</th>\n",
       "      <td>20220513_KIA_LG</td>\n",
       "      <td>seg_00003_0</td>\n",
       "      <td>3</td>\n",
       "      <td>0</td>\n",
       "      <td>C:\\Users\\USER\\highlight_generator\\data\\dataset...</td>\n",
       "      <td>train</td>\n",
       "    </tr>\n",
       "    <tr>\n",
       "      <th>4</th>\n",
       "      <td>20220513_KIA_LG</td>\n",
       "      <td>seg_00004_0</td>\n",
       "      <td>4</td>\n",
       "      <td>0</td>\n",
       "      <td>C:\\Users\\USER\\highlight_generator\\data\\dataset...</td>\n",
       "      <td>train</td>\n",
       "    </tr>\n",
       "    <tr>\n",
       "      <th>...</th>\n",
       "      <td>...</td>\n",
       "      <td>...</td>\n",
       "      <td>...</td>\n",
       "      <td>...</td>\n",
       "      <td>...</td>\n",
       "      <td>...</td>\n",
       "    </tr>\n",
       "    <tr>\n",
       "      <th>16778</th>\n",
       "      <td>20220804_KT_NC</td>\n",
       "      <td>seg_02216_0</td>\n",
       "      <td>2216</td>\n",
       "      <td>0</td>\n",
       "      <td>C:\\Users\\USER\\highlight_generator\\data\\dataset...</td>\n",
       "      <td>train</td>\n",
       "    </tr>\n",
       "    <tr>\n",
       "      <th>16779</th>\n",
       "      <td>20220804_KT_NC</td>\n",
       "      <td>seg_02217_0</td>\n",
       "      <td>2217</td>\n",
       "      <td>0</td>\n",
       "      <td>C:\\Users\\USER\\highlight_generator\\data\\dataset...</td>\n",
       "      <td>train</td>\n",
       "    </tr>\n",
       "    <tr>\n",
       "      <th>16780</th>\n",
       "      <td>20220804_KT_NC</td>\n",
       "      <td>seg_02218_0</td>\n",
       "      <td>2218</td>\n",
       "      <td>0</td>\n",
       "      <td>C:\\Users\\USER\\highlight_generator\\data\\dataset...</td>\n",
       "      <td>train</td>\n",
       "    </tr>\n",
       "    <tr>\n",
       "      <th>16781</th>\n",
       "      <td>20220804_KT_NC</td>\n",
       "      <td>seg_02219_0</td>\n",
       "      <td>2219</td>\n",
       "      <td>0</td>\n",
       "      <td>C:\\Users\\USER\\highlight_generator\\data\\dataset...</td>\n",
       "      <td>train</td>\n",
       "    </tr>\n",
       "    <tr>\n",
       "      <th>16782</th>\n",
       "      <td>20220804_KT_NC</td>\n",
       "      <td>seg_02220_0</td>\n",
       "      <td>2220</td>\n",
       "      <td>0</td>\n",
       "      <td>C:\\Users\\USER\\highlight_generator\\data\\dataset...</td>\n",
       "      <td>train</td>\n",
       "    </tr>\n",
       "  </tbody>\n",
       "</table>\n",
       "<p>16783 rows × 6 columns</p>\n",
       "</div>"
      ],
      "text/plain": [
       "                 title         name  index  label  \\\n",
       "0      20220513_KIA_LG  seg_00000_0      0      0   \n",
       "1      20220513_KIA_LG  seg_00001_0      1      0   \n",
       "2      20220513_KIA_LG  seg_00002_0      2      0   \n",
       "3      20220513_KIA_LG  seg_00003_0      3      0   \n",
       "4      20220513_KIA_LG  seg_00004_0      4      0   \n",
       "...                ...          ...    ...    ...   \n",
       "16778   20220804_KT_NC  seg_02216_0   2216      0   \n",
       "16779   20220804_KT_NC  seg_02217_0   2217      0   \n",
       "16780   20220804_KT_NC  seg_02218_0   2218      0   \n",
       "16781   20220804_KT_NC  seg_02219_0   2219      0   \n",
       "16782   20220804_KT_NC  seg_02220_0   2220      0   \n",
       "\n",
       "                                                    path subset  \n",
       "0      C:\\Users\\USER\\highlight_generator\\data\\dataset...  train  \n",
       "1      C:\\Users\\USER\\highlight_generator\\data\\dataset...  train  \n",
       "2      C:\\Users\\USER\\highlight_generator\\data\\dataset...  train  \n",
       "3      C:\\Users\\USER\\highlight_generator\\data\\dataset...  train  \n",
       "4      C:\\Users\\USER\\highlight_generator\\data\\dataset...  train  \n",
       "...                                                  ...    ...  \n",
       "16778  C:\\Users\\USER\\highlight_generator\\data\\dataset...  train  \n",
       "16779  C:\\Users\\USER\\highlight_generator\\data\\dataset...  train  \n",
       "16780  C:\\Users\\USER\\highlight_generator\\data\\dataset...  train  \n",
       "16781  C:\\Users\\USER\\highlight_generator\\data\\dataset...  train  \n",
       "16782  C:\\Users\\USER\\highlight_generator\\data\\dataset...  train  \n",
       "\n",
       "[16783 rows x 6 columns]"
      ]
     },
     "execution_count": 4,
     "metadata": {},
     "output_type": "execute_result"
    }
   ],
   "source": [
    "dl.all_segment_df"
   ]
  },
  {
   "cell_type": "code",
   "execution_count": 5,
   "metadata": {},
   "outputs": [
    {
     "data": {
      "text/plain": [
       "train    6\n",
       "test     1\n",
       "Name: subset, dtype: int64"
      ]
     },
     "execution_count": 5,
     "metadata": {},
     "output_type": "execute_result"
    }
   ],
   "source": [
    "df = dl.all_segment_df\n",
    "df[df['index'] == 0]['subset'].value_counts()"
   ]
  },
  {
   "cell_type": "code",
   "execution_count": 6,
   "metadata": {},
   "outputs": [
    {
     "data": {
      "text/plain": [
       "16783"
      ]
     },
     "execution_count": 6,
     "metadata": {},
     "output_type": "execute_result"
    }
   ],
   "source": [
    "all_data_count = dl.get_all_data_count()\n",
    "all_data_count"
   ]
  },
  {
   "cell_type": "code",
   "execution_count": 7,
   "metadata": {},
   "outputs": [
    {
     "name": "stdout",
     "output_type": "stream",
     "text": [
      "label 0: 16330 (0.9730 %)\n",
      "label 1: 453 (0.0270 %)\n"
     ]
    }
   ],
   "source": [
    "count_0 = dl.get_data_count_by_label(0)\n",
    "count_1 = dl.get_data_count_by_label(1)\n",
    "print(f'label 0: {count_0} ({count_0 / all_data_count:.4f} %)')\n",
    "print(f'label 1: {count_1} ({count_1 / all_data_count:.4f} %)')"
   ]
  },
  {
   "cell_type": "code",
   "execution_count": 8,
   "metadata": {},
   "outputs": [
    {
     "name": "stdout",
     "output_type": "stream",
     "text": [
      "train: 14430 (0.8598 %)\n",
      "train: 0 (0.0000 %)\n",
      "train: 2353 (0.1402 %)\n"
     ]
    }
   ],
   "source": [
    "count_train = dl.get_train_data_count()\n",
    "count_valid = dl.get_valid_data_count()\n",
    "count_test = dl.get_test_data_count()\n",
    "print(f'train: {count_train} ({count_train / all_data_count:.4f} %)')\n",
    "print(f'train: {count_valid} ({count_valid / all_data_count:.4f} %)')\n",
    "print(f'train: {count_test} ({count_test / all_data_count:.4f} %)')"
   ]
  },
  {
   "cell_type": "code",
   "execution_count": 9,
   "metadata": {},
   "outputs": [
    {
     "name": "stdout",
     "output_type": "stream",
     "text": [
      "0 3 5000 Counter({0: 4867, 1: 133})\n",
      "1 3 5000 Counter({0: 4871, 1: 129})\n"
     ]
    }
   ],
   "source": [
    "dl_train_iter = dl.iter_train_batch_data(5000)\n",
    "\n",
    "for i, (batch_x, batch_y) in enumerate(dl_train_iter):\n",
    "    print(i, len(batch_x), len(batch_y), Counter(batch_y.squeeze()))"
   ]
  },
  {
   "cell_type": "code",
   "execution_count": 10,
   "metadata": {},
   "outputs": [],
   "source": [
    "dl_valid_iter = dl.iter_valid_batch_data(5000)\n",
    "\n",
    "for i, (batch_x, batch_y) in enumerate(dl_valid_iter):\n",
    "    print(i, len(batch_x), len(batch_y), Counter(batch_y.squeeze()))"
   ]
  },
  {
   "cell_type": "code",
   "execution_count": 11,
   "metadata": {},
   "outputs": [
    {
     "name": "stdout",
     "output_type": "stream",
     "text": [
      "0 3 2353 Counter({0: 2274, 1: 79})\n"
     ]
    }
   ],
   "source": [
    "dl_test_iter = dl.iter_test_batch_data(5000)\n",
    "\n",
    "for i, (batch_x, batch_y) in enumerate(dl_test_iter):\n",
    "    print(i, len(batch_x), len(batch_y), Counter(batch_y.squeeze()))"
   ]
  },
  {
   "cell_type": "code",
   "execution_count": 12,
   "metadata": {},
   "outputs": [
    {
     "name": "stdout",
     "output_type": "stream",
     "text": [
      "0 3 5000 Counter({0: 4887, 1: 113})\n",
      "1 3 5000 Counter({0: 4889, 1: 111})\n",
      "2 3 5000 Counter({0: 4833, 1: 167})\n",
      "3 3 1783 Counter({0: 1721, 1: 62})\n"
     ]
    }
   ],
   "source": [
    "dl_all_iter = dl.iter_all_batch_data(5000)\n",
    "\n",
    "for i, (batch_x, batch_y) in enumerate(dl_all_iter):\n",
    "    print(i, len(batch_x), len(batch_y), Counter(batch_y.squeeze()))"
   ]
  },
  {
   "cell_type": "code",
   "execution_count": 13,
   "metadata": {},
   "outputs": [
    {
     "name": "stdout",
     "output_type": "stream",
     "text": [
      "0        20220513_KIA_LG\n",
      "2677      20220518_삼성_한화\n",
      "5174     20220629_KIA_키움\n",
      "7263     20220724_SSG_두산\n",
      "12041     20220803_KT_NC\n",
      "14562     20220804_KT_NC\n",
      "Name: title, dtype: object\n",
      "\n",
      "segment count: 14430\n"
     ]
    }
   ],
   "source": [
    "small_train_set = df[(df['index'] == 0) & (df['subset'] == 'train')]['title'][:8]\n",
    "print(small_train_set)\n",
    "print('\\nsegment count:', len(df[df['title'].isin(small_train_set)]))"
   ]
  },
  {
   "cell_type": "code",
   "execution_count": 14,
   "metadata": {},
   "outputs": [
    {
     "name": "stdout",
     "output_type": "stream",
     "text": [
      "Series([], Name: title, dtype: object)\n",
      "\n",
      "\n",
      "segment count: 0\n"
     ]
    }
   ],
   "source": [
    "small_valid_set = df[(df['index'] == 0) & (df['subset'] == 'valid')]['title'][:3]\n",
    "print(small_valid_set)\n",
    "print()\n",
    "print('\\nsegment count:', len(df[df['title'].isin(small_valid_set)]))"
   ]
  },
  {
   "cell_type": "code",
   "execution_count": 15,
   "metadata": {},
   "outputs": [
    {
     "name": "stdout",
     "output_type": "stream",
     "text": [
      "9688    20220730_두산_한화\n",
      "Name: title, dtype: object\n",
      "\n",
      "segment count: 2353\n"
     ]
    }
   ],
   "source": [
    "small_test_set = df[(df['index'] == 0) & (df['subset'] == 'test')]['title'][:3]\n",
    "print(small_test_set)\n",
    "print('\\nsegment count:', len(df[df['title'].isin(small_test_set)]))"
   ]
  },
  {
   "cell_type": "code",
   "execution_count": 16,
   "metadata": {},
   "outputs": [
    {
     "name": "stderr",
     "output_type": "stream",
     "text": [
      "C:\\Users\\USER\\AppData\\Local\\Temp\\ipykernel_27532\\1146634519.py:1: FutureWarning: The series.append method is deprecated and will be removed from pandas in a future version. Use pandas.concat instead.\n",
      "  all_small_set_df = df[df['title'].isin(small_train_set.append(small_valid_set).append(small_test_set))]\n",
      "C:\\Users\\USER\\AppData\\Local\\Temp\\ipykernel_27532\\1146634519.py:1: FutureWarning: The series.append method is deprecated and will be removed from pandas in a future version. Use pandas.concat instead.\n",
      "  all_small_set_df = df[df['title'].isin(small_train_set.append(small_valid_set).append(small_test_set))]\n"
     ]
    },
    {
     "data": {
      "text/html": [
       "<div>\n",
       "<style scoped>\n",
       "    .dataframe tbody tr th:only-of-type {\n",
       "        vertical-align: middle;\n",
       "    }\n",
       "\n",
       "    .dataframe tbody tr th {\n",
       "        vertical-align: top;\n",
       "    }\n",
       "\n",
       "    .dataframe thead th {\n",
       "        text-align: right;\n",
       "    }\n",
       "</style>\n",
       "<table border=\"1\" class=\"dataframe\">\n",
       "  <thead>\n",
       "    <tr style=\"text-align: right;\">\n",
       "      <th></th>\n",
       "      <th>title</th>\n",
       "      <th>name</th>\n",
       "      <th>index</th>\n",
       "      <th>label</th>\n",
       "      <th>path</th>\n",
       "      <th>subset</th>\n",
       "    </tr>\n",
       "  </thead>\n",
       "  <tbody>\n",
       "    <tr>\n",
       "      <th>0</th>\n",
       "      <td>20220513_KIA_LG</td>\n",
       "      <td>seg_00000_0</td>\n",
       "      <td>0</td>\n",
       "      <td>0</td>\n",
       "      <td>C:\\Users\\USER\\highlight_generator\\data\\dataset...</td>\n",
       "      <td>train</td>\n",
       "    </tr>\n",
       "    <tr>\n",
       "      <th>1</th>\n",
       "      <td>20220513_KIA_LG</td>\n",
       "      <td>seg_00001_0</td>\n",
       "      <td>1</td>\n",
       "      <td>0</td>\n",
       "      <td>C:\\Users\\USER\\highlight_generator\\data\\dataset...</td>\n",
       "      <td>train</td>\n",
       "    </tr>\n",
       "    <tr>\n",
       "      <th>2</th>\n",
       "      <td>20220513_KIA_LG</td>\n",
       "      <td>seg_00002_0</td>\n",
       "      <td>2</td>\n",
       "      <td>0</td>\n",
       "      <td>C:\\Users\\USER\\highlight_generator\\data\\dataset...</td>\n",
       "      <td>train</td>\n",
       "    </tr>\n",
       "    <tr>\n",
       "      <th>3</th>\n",
       "      <td>20220513_KIA_LG</td>\n",
       "      <td>seg_00003_0</td>\n",
       "      <td>3</td>\n",
       "      <td>0</td>\n",
       "      <td>C:\\Users\\USER\\highlight_generator\\data\\dataset...</td>\n",
       "      <td>train</td>\n",
       "    </tr>\n",
       "    <tr>\n",
       "      <th>4</th>\n",
       "      <td>20220513_KIA_LG</td>\n",
       "      <td>seg_00004_0</td>\n",
       "      <td>4</td>\n",
       "      <td>0</td>\n",
       "      <td>C:\\Users\\USER\\highlight_generator\\data\\dataset...</td>\n",
       "      <td>train</td>\n",
       "    </tr>\n",
       "    <tr>\n",
       "      <th>...</th>\n",
       "      <td>...</td>\n",
       "      <td>...</td>\n",
       "      <td>...</td>\n",
       "      <td>...</td>\n",
       "      <td>...</td>\n",
       "      <td>...</td>\n",
       "    </tr>\n",
       "    <tr>\n",
       "      <th>16778</th>\n",
       "      <td>20220804_KT_NC</td>\n",
       "      <td>seg_02216_0</td>\n",
       "      <td>2216</td>\n",
       "      <td>0</td>\n",
       "      <td>C:\\Users\\USER\\highlight_generator\\data\\dataset...</td>\n",
       "      <td>train</td>\n",
       "    </tr>\n",
       "    <tr>\n",
       "      <th>16779</th>\n",
       "      <td>20220804_KT_NC</td>\n",
       "      <td>seg_02217_0</td>\n",
       "      <td>2217</td>\n",
       "      <td>0</td>\n",
       "      <td>C:\\Users\\USER\\highlight_generator\\data\\dataset...</td>\n",
       "      <td>train</td>\n",
       "    </tr>\n",
       "    <tr>\n",
       "      <th>16780</th>\n",
       "      <td>20220804_KT_NC</td>\n",
       "      <td>seg_02218_0</td>\n",
       "      <td>2218</td>\n",
       "      <td>0</td>\n",
       "      <td>C:\\Users\\USER\\highlight_generator\\data\\dataset...</td>\n",
       "      <td>train</td>\n",
       "    </tr>\n",
       "    <tr>\n",
       "      <th>16781</th>\n",
       "      <td>20220804_KT_NC</td>\n",
       "      <td>seg_02219_0</td>\n",
       "      <td>2219</td>\n",
       "      <td>0</td>\n",
       "      <td>C:\\Users\\USER\\highlight_generator\\data\\dataset...</td>\n",
       "      <td>train</td>\n",
       "    </tr>\n",
       "    <tr>\n",
       "      <th>16782</th>\n",
       "      <td>20220804_KT_NC</td>\n",
       "      <td>seg_02220_0</td>\n",
       "      <td>2220</td>\n",
       "      <td>0</td>\n",
       "      <td>C:\\Users\\USER\\highlight_generator\\data\\dataset...</td>\n",
       "      <td>train</td>\n",
       "    </tr>\n",
       "  </tbody>\n",
       "</table>\n",
       "<p>16783 rows × 6 columns</p>\n",
       "</div>"
      ],
      "text/plain": [
       "                 title         name  index  label  \\\n",
       "0      20220513_KIA_LG  seg_00000_0      0      0   \n",
       "1      20220513_KIA_LG  seg_00001_0      1      0   \n",
       "2      20220513_KIA_LG  seg_00002_0      2      0   \n",
       "3      20220513_KIA_LG  seg_00003_0      3      0   \n",
       "4      20220513_KIA_LG  seg_00004_0      4      0   \n",
       "...                ...          ...    ...    ...   \n",
       "16778   20220804_KT_NC  seg_02216_0   2216      0   \n",
       "16779   20220804_KT_NC  seg_02217_0   2217      0   \n",
       "16780   20220804_KT_NC  seg_02218_0   2218      0   \n",
       "16781   20220804_KT_NC  seg_02219_0   2219      0   \n",
       "16782   20220804_KT_NC  seg_02220_0   2220      0   \n",
       "\n",
       "                                                    path subset  \n",
       "0      C:\\Users\\USER\\highlight_generator\\data\\dataset...  train  \n",
       "1      C:\\Users\\USER\\highlight_generator\\data\\dataset...  train  \n",
       "2      C:\\Users\\USER\\highlight_generator\\data\\dataset...  train  \n",
       "3      C:\\Users\\USER\\highlight_generator\\data\\dataset...  train  \n",
       "4      C:\\Users\\USER\\highlight_generator\\data\\dataset...  train  \n",
       "...                                                  ...    ...  \n",
       "16778  C:\\Users\\USER\\highlight_generator\\data\\dataset...  train  \n",
       "16779  C:\\Users\\USER\\highlight_generator\\data\\dataset...  train  \n",
       "16780  C:\\Users\\USER\\highlight_generator\\data\\dataset...  train  \n",
       "16781  C:\\Users\\USER\\highlight_generator\\data\\dataset...  train  \n",
       "16782  C:\\Users\\USER\\highlight_generator\\data\\dataset...  train  \n",
       "\n",
       "[16783 rows x 6 columns]"
      ]
     },
     "execution_count": 16,
     "metadata": {},
     "output_type": "execute_result"
    }
   ],
   "source": [
    "all_small_set_df = df[df['title'].isin(small_train_set.append(small_valid_set).append(small_test_set))]\n",
    "all_small_set_df"
   ]
  },
  {
   "cell_type": "code",
   "execution_count": 20,
   "metadata": {},
   "outputs": [
    {
     "data": {
      "text/plain": [
       "array([ 0.51387018, 18.52428256])"
      ]
     },
     "execution_count": 20,
     "metadata": {},
     "output_type": "execute_result"
    }
   ],
   "source": [
    "from sklearn.utils import class_weight\n",
    "\n",
    "class_weight.compute_class_weight('balanced', classes = [0, 1], y = all_small_set_df['label'].to_numpy())"
   ]
  },
  {
   "cell_type": "code",
   "execution_count": 21,
   "metadata": {},
   "outputs": [
    {
     "data": {
      "text/plain": [
       "array([0, 1], dtype=int64)"
      ]
     },
     "execution_count": 21,
     "metadata": {},
     "output_type": "execute_result"
    }
   ],
   "source": [
    "all_small_set_df['label'].unique()"
   ]
  }
 ],
 "metadata": {
  "kernelspec": {
   "display_name": "base",
   "language": "python",
   "name": "python3"
  },
  "language_info": {
   "codemirror_mode": {
    "name": "ipython",
    "version": 3
   },
   "file_extension": ".py",
   "mimetype": "text/x-python",
   "name": "python",
   "nbconvert_exporter": "python",
   "pygments_lexer": "ipython3",
   "version": "3.10.9"
  },
  "orig_nbformat": 4
 },
 "nbformat": 4,
 "nbformat_minor": 2
}
