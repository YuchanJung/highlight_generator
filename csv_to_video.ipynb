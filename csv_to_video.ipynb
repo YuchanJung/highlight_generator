{
 "cells": [
  {
   "cell_type": "code",
   "execution_count": 22,
   "id": "6464487a",
   "metadata": {},
   "outputs": [],
   "source": [
    "from csv_to_video import make"
   ]
  },
  {
   "cell_type": "code",
   "execution_count": 23,
   "id": "870d89ef",
   "metadata": {},
   "outputs": [],
   "source": [
    "csv_dir = r'model'\n",
    "mp4_dir = r'data/raw'"
   ]
  },
  {
   "cell_type": "code",
   "execution_count": 24,
   "id": "83a11eeb",
   "metadata": {
    "scrolled": true
   },
   "outputs": [
    {
     "name": "stdout",
     "output_type": "stream",
     "text": [
      "      index  start_sec  end_sec start_time  end_time  start_frame  end_frame  \\\n",
      "0         0          0        5   00:00:00  00:00:05            0        148   \n",
      "1         1          5       10   00:00:05  00:00:10          149        298   \n",
      "2         2         10       15   00:00:10  00:00:15          299        448   \n",
      "3         3         15       20   00:00:15  00:00:20          449        598   \n",
      "4         4         20       25   00:00:20  00:00:25          599        748   \n",
      "...     ...        ...      ...        ...       ...          ...        ...   \n",
      "2359   2359      11795    11800   03:16:35  03:16:40       353496     353645   \n",
      "2360   2360      11800    11805   03:16:40  03:16:45       353646     353794   \n",
      "2361   2361      11805    11810   03:16:45  03:16:50       353795     353944   \n",
      "2362   2362      11810    11815   03:16:50  03:16:55       353945     354094   \n",
      "2363   2363      11815    11820   03:16:55  03:17:00       354095     354244   \n",
      "\n",
      "      label  pred  \n",
      "0         0     0  \n",
      "1         0     0  \n",
      "2         0     0  \n",
      "3         0     0  \n",
      "4         0     0  \n",
      "...     ...   ...  \n",
      "2359      0     0  \n",
      "2360      0     0  \n",
      "2361      0     0  \n",
      "2362      0     0  \n",
      "2363      0     0  \n",
      "\n",
      "[2364 rows x 9 columns]\n",
      "Moviepy - Building video ./Highlights20220630_KIA_KIWOOM.mp4.\n",
      "MoviePy - Writing audio in Highlights20220630_KIA_KIWOOMTEMP_MPY_wvf_snd.mp3\n"
     ]
    },
    {
     "name": "stderr",
     "output_type": "stream",
     "text": [
      "                                                                                                                       \r"
     ]
    },
    {
     "name": "stdout",
     "output_type": "stream",
     "text": [
      "MoviePy - Done.\n",
      "Moviepy - Writing video ./Highlights20220630_KIA_KIWOOM.mp4\n",
      "\n"
     ]
    },
    {
     "name": "stderr",
     "output_type": "stream",
     "text": [
      "                                                                                                                       \r"
     ]
    },
    {
     "name": "stdout",
     "output_type": "stream",
     "text": [
      "Moviepy - Done !\n",
      "Moviepy - video ready ./Highlights20220630_KIA_KIWOOM.mp4\n"
     ]
    }
   ],
   "source": [
    "make(csv_dir,mp4_dir)"
   ]
  },
  {
   "cell_type": "code",
   "execution_count": null,
   "id": "b97b8a0b",
   "metadata": {},
   "outputs": [],
   "source": []
  }
 ],
 "metadata": {
  "kernelspec": {
   "display_name": "Python 3 (ipykernel)",
   "language": "python",
   "name": "python3"
  },
  "language_info": {
   "codemirror_mode": {
    "name": "ipython",
    "version": 3
   },
   "file_extension": ".py",
   "mimetype": "text/x-python",
   "name": "python",
   "nbconvert_exporter": "python",
   "pygments_lexer": "ipython3",
   "version": "3.10.9"
  }
 },
 "nbformat": 4,
 "nbformat_minor": 5
}
